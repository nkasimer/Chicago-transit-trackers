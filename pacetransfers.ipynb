{
 "cells": [
  {
   "cell_type": "code",
   "execution_count": 23,
   "metadata": {},
   "outputs": [],
   "source": [
    "import urllib.request, json, datetime, time,pytz\n",
    "import requests\n",
    "from requests.structures import CaseInsensitiveDict\n",
    "with open('keys.json') as json_file:\n",
    "    keys = json.load(json_file)\n",
    "trainkey = keys[\"trainkey\"]\n",
    "buskey = keys[\"buskey\"]"
   ]
  },
  {
   "cell_type": "code",
   "execution_count": 24,
   "metadata": {},
   "outputs": [],
   "source": [
    "# pacestops=[{\"route\":\"226\",\"routeID\":\"17\",\"dirID\":\"4\",\"stopID\":\"21001\",\"stopname\":\"Oakton & Lincoln\"},\n",
    "#     {\"route\":\"226\",\"routeID\":\"17\",\"dirID\":\"1\",\"stopID\":\"20844\",\"stopname\":\"Oakton & Lincoln\"},\n",
    "#     {\"route\":\"210\",\"routeID\":\"10\",\"dirID\":\"2\",\"stopID\":\"35464\",\"stopname\":\"Oakton & Lacrosse\"},\n",
    "#     {\"route\":\"210\", \"routeID\":\"10\",\"dirID\":\"3\",\"stopID\":\"35469\",\"stopname\":\"Oakton & Lacrosse\"}]\n",
    "\n",
    "pacestops_origin = [{\"route\":\"293\",\"routeID\":\"293\",\"dirID\":\"3\",\"stopID\":\"22064\",\"stopname\":\"Milwaukee & Devon\"}]"
   ]
  },
  {
   "cell_type": "code",
   "execution_count": 97,
   "metadata": {},
   "outputs": [],
   "source": [
    "def paceparser(nowlocal, stop):\n",
    "    url = \"http://tmweb.pacebus.com/TMWebWatch/Arrivals.aspx/getStopTimes\"\n",
    "    headers = CaseInsensitiveDict()\n",
    "    headers[\"Content-Type\"] = \"application/json\"\n",
    "        \n",
    "    minutes = []\n",
    "    stopdata = '{\"routeID\": '+stop[\"routeID\"]+',\t\"directionID\": '+stop[\"dirID\"]+',\t\"stopID\":\t'+stop[\"stopID\"]+',\t\"tpID\":\t0, \"useArrivalTimes\":\ttrue}'\n",
    "    resp = requests.post(url, headers=headers, data=stopdata)\n",
    "    data = resp.json()['d']\n",
    "    estimations = data['routeStops'][0]['stops'][0]['crossings']\n",
    "    buses = []\n",
    "    for est in estimations:\n",
    "        bus = {}\n",
    "        bus[\"stpid\"] = stop[\"stopID\"]\n",
    "        bus[\"dir\"] = stop[\"dirID\"]\n",
    "        bus['rt'] = stop[\"route\"]\n",
    "        bus['stpnm'] = stop[\"stopname\"]\n",
    "        if est['predTime']==None:\n",
    "            bus['predTime'] = est['schedTime']\n",
    "            bus['predPeriod'] = est['schedPeriod']\n",
    "        else:\n",
    "            bus['predTime'] = est['predTime']\n",
    "            bus['predPeriod'] = est['predPeriod']\n",
    "        today_string = nowlocal.strftime(\"%Y-%m-%d\")\n",
    "        esttimestring = today_string + \"T\" + bus[\"predTime\"]+bus[\"predPeriod\"]\n",
    "        est_td = datetime.datetime.strptime(esttimestring,\"%Y-%m-%dT%I:%M%p\")\n",
    "        local_tz = pytz.timezone(\"America/Chicago\")\n",
    "        est_td = local_tz.localize(est_td)\n",
    "        ETA = est_td - nowlocal\n",
    "        bus['ETA'] = round(ETA.total_seconds()/60)\n",
    "        buses.append(bus)\n",
    "    return buses"
   ]
  },
  {
   "cell_type": "code",
   "execution_count": 98,
   "metadata": {},
   "outputs": [
    {
     "data": {
      "text/plain": [
       "[{'stpid': '22064',\n",
       "  'dir': '3',\n",
       "  'rt': '293',\n",
       "  'predTime': '2:24',\n",
       "  'predPeriod': 'pm',\n",
       "  'ETA': 4},\n",
       " {'stpid': '22064',\n",
       "  'dir': '3',\n",
       "  'rt': '293',\n",
       "  'predTime': '2:38',\n",
       "  'predPeriod': 'pm',\n",
       "  'ETA': 18},\n",
       " {'stpid': '22064',\n",
       "  'dir': '3',\n",
       "  'rt': '293',\n",
       "  'predTime': '2:53',\n",
       "  'predPeriod': 'pm',\n",
       "  'ETA': 33}]"
      ]
     },
     "execution_count": 98,
     "metadata": {},
     "output_type": "execute_result"
    }
   ],
   "source": [
    "nowlocal = datetime.datetime.now()\n",
    "local_tz =  pytz.timezone(\"America/Chicago\")\n",
    "nowlocal = local_tz.localize(nowlocal)\n",
    "paceparser(nowlocal, pacestops_origin[0])"
   ]
  },
  {
   "cell_type": "code",
   "execution_count": null,
   "metadata": {},
   "outputs": [],
   "source": []
  }
 ],
 "metadata": {
  "kernelspec": {
   "display_name": "Python 3",
   "language": "python",
   "name": "python3"
  },
  "language_info": {
   "codemirror_mode": {
    "name": "ipython",
    "version": 3
   },
   "file_extension": ".py",
   "mimetype": "text/x-python",
   "name": "python",
   "nbconvert_exporter": "python",
   "pygments_lexer": "ipython3",
   "version": "3.7.4"
  }
 },
 "nbformat": 4,
 "nbformat_minor": 2
}
