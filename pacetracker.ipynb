{
 "cells": [
  {
   "cell_type": "code",
   "execution_count": 73,
   "metadata": {},
   "outputs": [],
   "source": [
    "import urllib.request, json, datetime, time,pytz,csv\n",
    "import requests\n",
    "from requests.structures import CaseInsensitiveDict\n",
    "\n",
    "#GIS data CSV from here: https://maps.pacebus.com/paceservices/ it's saved in the repo\n",
    "#station IDs can be determined by searching the bus data or \n",
    "\n",
    "directions = {\"East\":\"1\",\n",
    "             \"North\":\"2\",\n",
    "             \"South\":\"3\",\n",
    "             \"West\":\"4\"}"
   ]
  },
  {
   "cell_type": "code",
   "execution_count": 104,
   "metadata": {},
   "outputs": [],
   "source": [
    "def parsebus(desired_order, bus_ETA, bus_route, bus_stop):\n",
    "    busdata = []\n",
    "    ETAsbyroute = [[] for i in range(len(desired_order))]\n",
    "    stopsbyroute = [\"\"] * len(desired_order)\n",
    "    for j in range(0,len(desired_order)):\n",
    "        for i in range(0,len(bus_ETA)):\n",
    "            if desired_order[j] == bus_route[i]:\n",
    "                ETAsbyroute[j].append(bus_ETA[i])\n",
    "                stopsbyroute[j] = bus_stop[i]\n",
    "\n",
    "    for i in range(0,len(desired_order)):\n",
    "        output = []\n",
    "        arrivals = \"\"\n",
    "        if len(ETAsbyroute[i]) == 0:\n",
    "            continue\n",
    "        output.append(desired_order[i])\n",
    "        arrivals += ETAsbyroute[i][0]\n",
    "        if len(ETAsbyroute[i]) > 1:\n",
    "            for j in range(1,len(ETAsbyroute[i])):\n",
    "                arrivals += \", \" + ETAsbyroute[i][j]\n",
    "        output.append(arrivals)\n",
    "        output.append(stopsbyroute[i])\n",
    "        busdata.append(output)\n",
    "    return busdata"
   ]
  },
  {
   "cell_type": "code",
   "execution_count": 132,
   "metadata": {},
   "outputs": [],
   "source": [
    "def getpaceETA(esttime,ampm,nowlocal):\n",
    "    today_string = nowlocal.strftime(\"%Y-%m-%d\")\n",
    "    esttimestring = today_string + \"T\" + esttime+ampm\n",
    "    est_td = datetime.datetime.strptime(esttimestring,\"%Y-%m-%dT%I:%M%p\")\n",
    "    local_tz = pytz.timezone(\"America/Chicago\")\n",
    "    est_td = local_tz.localize(est_td)\n",
    "    ETA = est_td - nowlocal\n",
    "    return round(ETA.total_seconds()/60)"
   ]
  },
  {
   "cell_type": "code",
   "execution_count": 154,
   "metadata": {},
   "outputs": [],
   "source": [
    "def fetchpacebus(stopid,nowlocal):\n",
    "    url = \"http://tmweb.pacebus.com/TMWebWatch/Arrivals.aspx/getStopTimes\"\n",
    "    headers = CaseInsensitiveDict()\n",
    "    headers[\"Content-Type\"] = \"application/json\"\n",
    "    busresults = []\n",
    "    stopdata = pullstopdata(stopid)\n",
    "    stopheaders = '{\"routeID\": '+stopdata[\"rtID\"]+',\t\"directionID\": '+stopdata[\"dirID\"]+',\t\"stopID\":\t'+stopdata[\"stpid\"]+',\t\"tpID\":\t0, \"useArrivalTimes\":\ttrue}'\n",
    "    resp = requests.post(url, headers=headers, data=stopheaders)\n",
    "    arrivaldata = resp.json()[\"d\"][\"routeStops\"][0][\"stops\"][0][\"crossings\"]\n",
    "    counter = 0\n",
    "    for est in arrivaldata:\n",
    "        bus = stopdata\n",
    "        if est['predTime']==None:\n",
    "            bus['predTime'] = est['schedTime']\n",
    "            bus['predPeriod'] = est['schedPeriod']\n",
    "        else:\n",
    "            bus['predTime'] = est['predTime']\n",
    "            bus['predPeriod'] = est['predPeriod']\n",
    "        bus['ETA'] = getpaceETA(bus['predTime'],bus['predPeriod'],nowlocal)\n",
    "        bus['count'] = counter\n",
    "        counter = counter+1\n",
    "        busresults.append(bus.copy())\n",
    "        print(bus)\n",
    "    print(busresults)\n",
    "    return busresults"
   ]
  },
  {
   "cell_type": "code",
   "execution_count": 147,
   "metadata": {},
   "outputs": [],
   "source": [
    "def pullstopdata(stopnum):\n",
    "    with open('PACE_stop_data.csv') as csv_file:\n",
    "        csv_reader = csv.reader(csv_file, delimiter=',')\n",
    "        for row in csv_reader:\n",
    "            if row[7] == stopnum:\n",
    "                stop = {}\n",
    "                stop['stpid'] = row[7]\n",
    "                stop[\"rt\"] = row[0]\n",
    "                stop[\"dir\"] = row[1]+\"bound\"\n",
    "                stop['dirID'] = directions[row[1]]\n",
    "                with open('PACE_route_numbers.csv') as csv_file2:\n",
    "                    csv_reader2 = csv.reader(csv_file2, delimiter=',')\n",
    "                    for row2 in csv_reader2:\n",
    "                        if row2[0] == row[0]:\n",
    "                            stop['rtID'] = row2[1]\n",
    "                stop['stpnm'] = row[5]  \n",
    "                return stop\n",
    "    return"
   ]
  },
  {
   "cell_type": "code",
   "execution_count": 148,
   "metadata": {},
   "outputs": [],
   "source": [
    "def pacedatacollector(stopnums,nowlocal):\n",
    "    busdata,desired_order = [],[]\n",
    "    southbus_route,southbus_ETA,southbus_stop,southbus_dest = [],[],[],[]\n",
    "    northbus_route,northbus_ETA,northbus_stop,northbus_dest = [],[],[],[]\n",
    "    westbus_route,westbus_ETA,westbus_stop,westbus_dest = [],[],[],[]\n",
    "    eastbus_route,eastbus_ETA,eastbus_stop,eastbus_dest = [],[],[],[]\n",
    "    for stop in stopnums:\n",
    "        busdata = busdata + fetchpacebus(stop,nowlocal)\n",
    "    for bus in busdata:\n",
    "        if bus['rt'] not in desired_order:\n",
    "            desired_order.append(bus['rt'])\n",
    "        if bus[\"dirID\"]==\"1\":\n",
    "            eastbus_route.append(bus[\"rt\"])\n",
    "            eastbus_ETA.append(str(bus[\"ETA\"]))\n",
    "            eastbus_stop.append(bus[\"stpnm\"])\n",
    "        elif bus[\"dirID\"]==\"2\":\n",
    "            northbus_route.append(bus[\"rt\"])\n",
    "            northbus_ETA.append(str(bus[\"ETA\"]))\n",
    "            northbus_stop.append(bus[\"stpnm\"])\n",
    "        elif bus[\"dirID\"]==\"3\":\n",
    "            southbus_route.append(bus[\"rt\"])\n",
    "            southbus_ETA.append(str(bus[\"ETA\"]))\n",
    "            southbus_stop.append(bus[\"stpnm\"])\n",
    "        elif bus[\"dirID\"]==\"4\":\n",
    "            westbus_route.append(bus[\"rt\"])\n",
    "            westbus_ETA.append(str(bus[\"ETA\"]))\n",
    "            westbus_stop.append(bus[\"stpnm\"])\n",
    "    \n",
    "    \n",
    "    northbus = parsebus(desired_order, northbus_ETA, northbus_route, northbus_stop)\n",
    "    southbus = parsebus(desired_order, southbus_ETA, southbus_route, southbus_stop)\n",
    "    westbus = parsebus(desired_order, westbus_ETA, westbus_route, westbus_stop)\n",
    "    eastbus = parsebus(desired_order, eastbus_ETA, eastbus_route, eastbus_stop)\n",
    "    \n",
    "    return northbus, southbus, westbus, eastbus"
   ]
  },
  {
   "cell_type": "code",
   "execution_count": 156,
   "metadata": {},
   "outputs": [
    {
     "name": "stdout",
     "output_type": "stream",
     "text": [
      "{'stpid': '21001', 'rt': '226', 'dir': 'Westbound', 'dirID': '4', 'rtID': '17', 'stpnm': 'Oakton/Lincoln', 'predTime': '4:51', 'predPeriod': 'pm', 'ETA': 2, 'count': 0}\n",
      "{'stpid': '21001', 'rt': '226', 'dir': 'Westbound', 'dirID': '4', 'rtID': '17', 'stpnm': 'Oakton/Lincoln', 'predTime': '5:07', 'predPeriod': 'pm', 'ETA': 18, 'count': 1}\n",
      "{'stpid': '21001', 'rt': '226', 'dir': 'Westbound', 'dirID': '4', 'rtID': '17', 'stpnm': 'Oakton/Lincoln', 'predTime': '5:22', 'predPeriod': 'pm', 'ETA': 33, 'count': 2}\n",
      "[{'stpid': '21001', 'rt': '226', 'dir': 'Westbound', 'dirID': '4', 'rtID': '17', 'stpnm': 'Oakton/Lincoln', 'predTime': '4:51', 'predPeriod': 'pm', 'ETA': 2, 'count': 0}, {'stpid': '21001', 'rt': '226', 'dir': 'Westbound', 'dirID': '4', 'rtID': '17', 'stpnm': 'Oakton/Lincoln', 'predTime': '5:07', 'predPeriod': 'pm', 'ETA': 18, 'count': 1}, {'stpid': '21001', 'rt': '226', 'dir': 'Westbound', 'dirID': '4', 'rtID': '17', 'stpnm': 'Oakton/Lincoln', 'predTime': '5:22', 'predPeriod': 'pm', 'ETA': 33, 'count': 2}]\n",
      "{'stpid': '20844', 'rt': '226', 'dir': 'Eastbound', 'dirID': '1', 'rtID': '17', 'stpnm': 'Oakton/Lincoln', 'predTime': '4:56', 'predPeriod': 'pm', 'ETA': 7, 'count': 0}\n",
      "{'stpid': '20844', 'rt': '226', 'dir': 'Eastbound', 'dirID': '1', 'rtID': '17', 'stpnm': 'Oakton/Lincoln', 'predTime': '5:30', 'predPeriod': 'pm', 'ETA': 41, 'count': 1}\n",
      "{'stpid': '20844', 'rt': '226', 'dir': 'Eastbound', 'dirID': '1', 'rtID': '17', 'stpnm': 'Oakton/Lincoln', 'predTime': '5:55', 'predPeriod': 'pm', 'ETA': 66, 'count': 2}\n",
      "[{'stpid': '20844', 'rt': '226', 'dir': 'Eastbound', 'dirID': '1', 'rtID': '17', 'stpnm': 'Oakton/Lincoln', 'predTime': '4:56', 'predPeriod': 'pm', 'ETA': 7, 'count': 0}, {'stpid': '20844', 'rt': '226', 'dir': 'Eastbound', 'dirID': '1', 'rtID': '17', 'stpnm': 'Oakton/Lincoln', 'predTime': '5:30', 'predPeriod': 'pm', 'ETA': 41, 'count': 1}, {'stpid': '20844', 'rt': '226', 'dir': 'Eastbound', 'dirID': '1', 'rtID': '17', 'stpnm': 'Oakton/Lincoln', 'predTime': '5:55', 'predPeriod': 'pm', 'ETA': 66, 'count': 2}]\n"
     ]
    },
    {
     "data": {
      "text/plain": [
       "([],\n",
       " [],\n",
       " [['226', '2, 18, 33', 'Oakton/Lincoln']],\n",
       " [['226', '7, 41, 66', 'Oakton/Lincoln']])"
      ]
     },
     "execution_count": 156,
     "metadata": {},
     "output_type": "execute_result"
    }
   ],
   "source": [
    "currenttime = datetime.datetime.now()\n",
    "local_tz =  pytz.timezone(\"America/Chicago\")\n",
    "localtime = local_tz.localize(currenttime)\n",
    "#fetchpacebus('21001',localtime)\n",
    "pacedatacollector(['21001','20844'],localtime)"
   ]
  },
  {
   "cell_type": "code",
   "execution_count": null,
   "metadata": {},
   "outputs": [],
   "source": []
  }
 ],
 "metadata": {
  "kernelspec": {
   "display_name": "Python 3",
   "language": "python",
   "name": "python3"
  },
  "language_info": {
   "codemirror_mode": {
    "name": "ipython",
    "version": 3
   },
   "file_extension": ".py",
   "mimetype": "text/x-python",
   "name": "python",
   "nbconvert_exporter": "python",
   "pygments_lexer": "ipython3",
   "version": "3.7.4"
  }
 },
 "nbformat": 4,
 "nbformat_minor": 2
}
