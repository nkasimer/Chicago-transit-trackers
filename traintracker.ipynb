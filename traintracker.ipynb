{
 "cells": [
  {
   "cell_type": "code",
   "execution_count": 2,
   "metadata": {},
   "outputs": [],
   "source": [
    "import urllib.request, json, datetime, time,pytz\n",
    "import requests\n",
    "from requests.structures import CaseInsensitiveDict\n",
    "with open('keys.json') as json_file:\n",
    "    keys = json.load(json_file)\n",
    "trainkey = keys[\"trainkey\"]\n",
    "buskey = keys[\"buskey\"]\n",
    "\n",
    "#CTA bus and train trackers require an API key from the CTA.\n",
    "#the following links have how to get an API key for bus and train trackers:\n",
    "#https://www.transitchicago.com/developers/bustracker/\n",
    "#https://www.transitchicago.com/developers/ttdocs/\n",
    "\n",
    "#see the keys_sample.json file for proper formatting"
   ]
  },
  {
   "cell_type": "code",
   "execution_count": 17,
   "metadata": {},
   "outputs": [],
   "source": [
    "def fetchCTAtrains(trainstop):\n",
    "    if trainstop == \"\":\n",
    "        return\n",
    "    train_url = \"http://lapi.transitchicago.com/api/1.0/ttarrivals.aspx?key=\"+trainkey+\"&mapid=\"+trainstop+\"&outputType=JSON\"\n",
    "    print(train_url)\n",
    "    with urllib.request.urlopen(train_url) as url:\n",
    "        train_info = json.loads(url.read().decode())\n",
    "    return train_info\n",
    "    #this pulls data from the CTA API.  The input is the ID for the stop, which must be a string.\n",
    "    #this needs to be the \"parent\" stop ID, not the stop ID for the specific service.\n",
    "\n",
    "def parseCTAtime(timestamp):\n",
    "    return datetime.datetime.strptime(timestamp,\"%Y-%m-%dT%H:%M:%S\")\n",
    "    #turns the CTA's timestamp into timezone naive datetime objects"
   ]
  },
  {
   "cell_type": "code",
   "execution_count": 26,
   "metadata": {},
   "outputs": [],
   "source": [
    "def CTAtraininfo(traindata):\n",
    "\n",
    "    if traindata == None:\n",
    "        return [],[]\n",
    "    output = \"\"\n",
    "    #process all trains at given stop\n",
    "    trainsatstop = []\n",
    "    for train in traindata[\"ctatt\"][\"eta\"]:\n",
    "        trainsatstop.append(train)\n",
    "        #this loop is probably unnecessary, but useful if you want to have some conditional on what trains are tracked\n",
    "        #for example, only a particular route, or that will leave in more than x minutes, etc.\n",
    "\n",
    "    trains = []\n",
    "    for arr in trainsatstop:\n",
    "        trains.append(arr)\n",
    "    for train in trains:\n",
    "        ETA = parseCTAtime(train[\"arrT\"]) - parseCTAtime(train[\"prdt\"])\n",
    "        minutes_prelim = str(ETA)\n",
    "        train[\"ETA\"] = int(minutes_prelim[2:4])\n",
    "        #calculates ETA by subtracting ETA from the time the estimate was generated\n",
    "        #see appendix D of the CTA train API documentation\n",
    "\n",
    "    output = [[],[]]\n",
    "    for train in trains:\n",
    "        if train[\"isSch\"] == \"1\":\n",
    "            trainstring = str(train[\"ETA\"])+' minutes to ' + train[\"destNm\"] +', scheduled'\n",
    "        elif train[\"isDly\"] == \"1\":\n",
    "            trainstring = str(train[\"ETA\"])+' minutes to ' + train[\"destNm\"] +', delayed'\n",
    "        else:\n",
    "            trainstring = str(train[\"ETA\"])+' minutes to ' + train[\"destNm\"]\n",
    "        #the above generates an output string for display.  It has the ETA in minutes, dest,...\n",
    "        #...and whether the train is scheduled or delayed.\n",
    "        #This is the string you'd normally want to display.\n",
    "        #theoretically you could also spit out the raw data and have the HTML in the display fill it in.\n",
    "        #\n",
    "        #Now the output is split into two halves, for the two directions the CTA uses for rail services.\n",
    "        #Each train gets the route, which can be used for showing the arrival in the correct color;\n",
    "        #And the string above, followed by the run number, which is provision for use in transfer-calculation.\n",
    "        if train[\"trDr\"] == \"1\":\n",
    "            output[0].append([train[\"rt\"],train[\"rn\"],trainstring])\n",
    "        elif train[\"trDr\"] == \"5\":\n",
    "            output[1].append([train[\"rt\"],train[\"rn\"],trainstring])\n",
    "\n",
    "    return output"
   ]
  },
  {
   "cell_type": "code",
   "execution_count": 27,
   "metadata": {},
   "outputs": [
    {
     "name": "stdout",
     "output_type": "stream",
     "text": [
      "http://lapi.transitchicago.com/api/1.0/ttarrivals.aspx?key=c103a1622f9b49e0b1eed52042bff7c2&mapid=41320&outputType=JSON\n"
     ]
    },
    {
     "data": {
      "text/plain": [
       "[[['Brn', '403', '2 minutes to Kimball'],\n",
       "  ['Brn', '411', '6 minutes to Kimball'],\n",
       "  ['Red', '801', '8 minutes to Howard'],\n",
       "  ['Red', '825', '15 minutes to Howard'],\n",
       "  ['Brn', '412', '17 minutes to Kimball']],\n",
       " [['Brn', '406', '2 minutes to Loop'],\n",
       "  ['Red', '903', '2 minutes to 95th/Dan Ryan'],\n",
       "  ['Red', '904', '7 minutes to 95th/Dan Ryan'],\n",
       "  ['Brn', '417', '11 minutes to Loop']]]"
      ]
     },
     "execution_count": 27,
     "metadata": {},
     "output_type": "execute_result"
    }
   ],
   "source": [
    "teststop = \"41320\"\n",
    "data = fetchCTAtrains(teststop)\n",
    "CTAtraininfo(data)"
   ]
  },
  {
   "cell_type": "code",
   "execution_count": null,
   "metadata": {},
   "outputs": [],
   "source": []
  }
 ],
 "metadata": {
  "kernelspec": {
   "display_name": "Python 3",
   "language": "python",
   "name": "python3"
  },
  "language_info": {
   "codemirror_mode": {
    "name": "ipython",
    "version": 3
   },
   "file_extension": ".py",
   "mimetype": "text/x-python",
   "name": "python",
   "nbconvert_exporter": "python",
   "pygments_lexer": "ipython3",
   "version": "3.7.4"
  }
 },
 "nbformat": 4,
 "nbformat_minor": 2
}
