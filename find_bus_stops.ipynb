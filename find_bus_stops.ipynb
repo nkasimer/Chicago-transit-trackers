{
 "cells": [
  {
   "cell_type": "code",
   "execution_count": 1,
   "metadata": {},
   "outputs": [],
   "source": [
    "import csv, math"
   ]
  },
  {
   "cell_type": "code",
   "execution_count": 51,
   "metadata": {},
   "outputs": [],
   "source": [
    "def find_near_stops(lat, lon, max_dist):\n",
    "    near_stops = {}\n",
    "    with open('CTA_stop_data.csv') as csv_file:\n",
    "        csv_reader = csv.reader(csv_file, delimiter=',')\n",
    "        next(csv_reader)\n",
    "        for row in csv_reader:\n",
    "            distance = calcdistance([lat,lon],[float(row[13]),float(row[12])])\n",
    "            if distance < max_dist:\n",
    "                if row[7] not in near_stops.keys():\n",
    "                    near_stops[row[7]] = {row[5]:{\"ID\":row[0],\"dist\":distance,\"name\":row[11]}}\n",
    "                elif row[5] not in near_stops[row[7]].keys():\n",
    "                    near_stops[row[7]][row[5]] = {\"ID\":row[0],\"dist\":distance,\"name\":row[11]}\n",
    "                elif near_stops[row[7]][row[5]][\"dist\"] > distance:\n",
    "                    near_stops[row[7]][row[5]] = {\"ID\":row[0],\"dist\":distance,\"name\":row[11]}\n",
    "    \n",
    "    with open('PACE_stop_data.csv') as csv_file:\n",
    "        csv_reader = csv.reader(csv_file, delimiter=',')\n",
    "        next(csv_reader)\n",
    "        for row in csv_reader:\n",
    "            distance = calcdistance([lat,lon],[float(row[11]),float(row[12])])\n",
    "            if distance < max_dist:\n",
    "                if row[0] not in near_stops.keys():\n",
    "                    near_stops[row[0]] = {row[1]:{\"ID\":row[7],\"dist\":distance,\"name\":row[5]}}\n",
    "                elif row[5] not in near_stops[row[0]].keys():\n",
    "                    near_stops[row[0]][row[1]] = {\"ID\":row[7],\"dist\":distance,\"name\":row[5]}\n",
    "                elif near_stops[row[0]][row[2]][\"dist\"] > distance:\n",
    "                    near_stops[row[0]][row[1]] = {\"ID\":row[7],\"dist\":distance,\"name\":row[5]}            \n",
    "    \n",
    "    return near_stops"
   ]
  },
  {
   "cell_type": "code",
   "execution_count": 52,
   "metadata": {},
   "outputs": [],
   "source": [
    "def calcdistance(pos1,pos2):\n",
    "    R = 6373.0\n",
    "    lat1 = math.radians(pos1[0])\n",
    "    lon1 = math.radians(pos1[1])\n",
    "    lat2 = math.radians(pos2[0])\n",
    "    lon2 = math.radians(pos2[1])\n",
    "    dlon = lon2-lon1\n",
    "    dlat = lat2-lat1\n",
    "    a = math.sin(dlat / 2)**2 + math.cos(lat1) * math.cos(lat2) * math.sin(dlon / 2)**2\n",
    "    c = 2 * math.atan2(math.sqrt(a), math.sqrt(1 - a))\n",
    "    distance = R * c\n",
    "    return distance #returns distance in km between two lat/lon points"
   ]
  },
  {
   "cell_type": "code",
   "execution_count": 53,
   "metadata": {},
   "outputs": [
    {
     "data": {
      "text/plain": [
       "{'54A': {'SB': {'ID': '10460',\n",
       "   'dist': 0.2695403164902192,\n",
       "   'name': 'Skokie Blvd & Madison'},\n",
       "  'NB': {'ID': '10439',\n",
       "   'dist': 0.23211175267640444,\n",
       "   'name': 'Skokie Blvd & Searle'}},\n",
       " '97': {'NB': {'ID': '3553',\n",
       "   'dist': 0.26227840494668553,\n",
       "   'name': 'Niles Center & Madison'},\n",
       "  'WB': {'ID': '17211',\n",
       "   'dist': 0.4167375564428713,\n",
       "   'name': 'Oakton & Lacrosse'},\n",
       "  'EB': {'ID': '15077',\n",
       "   'dist': 0.42973590798610034,\n",
       "   'name': 'Oakton & Lacrosse'},\n",
       "  'SB': {'ID': '3592',\n",
       "   'dist': 0.2918703768018781,\n",
       "   'name': 'Niles Center & Madison'}},\n",
       " '210': {'North': {'ID': '23669',\n",
       "   'dist': 0.8844377915573463,\n",
       "   'name': 'Lincoln/Lockwood'},\n",
       "  'South': {'ID': '35469',\n",
       "   'dist': 0.41902160784877285,\n",
       "   'name': 'Oakton-Skokie CTA Station'}},\n",
       " '226': {'East': {'ID': '20842',\n",
       "   'dist': 0.9150906448765237,\n",
       "   'name': 'Niles Center/George'},\n",
       "  'West': {'ID': '21005', 'dist': 0.9741692443435841, 'name': 'Oakton/Lorel'}}}"
      ]
     },
     "execution_count": 53,
     "metadata": {},
     "output_type": "execute_result"
    }
   ],
   "source": [
    "find_near_stops(42.03,-87.75,1)"
   ]
  },
  {
   "cell_type": "code",
   "execution_count": null,
   "metadata": {},
   "outputs": [],
   "source": []
  }
 ],
 "metadata": {
  "kernelspec": {
   "display_name": "Python 3",
   "language": "python",
   "name": "python3"
  },
  "language_info": {
   "codemirror_mode": {
    "name": "ipython",
    "version": 3
   },
   "file_extension": ".py",
   "mimetype": "text/x-python",
   "name": "python",
   "nbconvert_exporter": "python",
   "pygments_lexer": "ipython3",
   "version": "3.7.4"
  }
 },
 "nbformat": 4,
 "nbformat_minor": 2
}
