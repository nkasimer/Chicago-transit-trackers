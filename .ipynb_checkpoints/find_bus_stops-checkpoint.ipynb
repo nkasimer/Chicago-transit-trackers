{
 "cells": [
  {
   "cell_type": "code",
   "execution_count": 13,
   "metadata": {},
   "outputs": [],
   "source": [
    "import csv, math"
   ]
  },
  {
   "cell_type": "code",
   "execution_count": 72,
   "metadata": {},
   "outputs": [],
   "source": [
    "def find_near_stops(lat, lon, max_dist):\n",
    "     with open('CTA_stop_data.csv') as csv_file:\n",
    "        csv_reader = csv.reader(csv_file, delimiter=',')\n",
    "        stops = []\n",
    "        next(csv_reader)\n",
    "        near_stops = {}\n",
    "        for row in csv_reader:\n",
    "            distance = calcdistance([lat,lon],[float(row[13]),float(row[12])])\n",
    "            if distance < max_dist:\n",
    "                if row[7] not in near_stops.keys():\n",
    "                    near_stops[row[7]] = {row[5]:{\"ID\":row[0],\"dist\":distance,\"name\":row[11]}}\n",
    "                elif row[5] not in near_stops[row[7]].keys():\n",
    "                    near_stops[row[7]][row[5]] = {\"ID\":row[0],\"dist\":distance,\"name\":row[11]}\n",
    "                elif near_stops[row[7]][row[5]][\"dist\"] > distance:\n",
    "                    near_stops[row[7]][row[5]] = {\"ID\":row[0],\"dist\":distance,\"name\":row[11]}\n",
    "        return near_stops"
   ]
  },
  {
   "cell_type": "code",
   "execution_count": 73,
   "metadata": {},
   "outputs": [],
   "source": [
    "def calcdistance(pos1,pos2):\n",
    "    R = 6373.0\n",
    "    lat1 = math.radians(pos1[0])\n",
    "    lon1 = math.radians(pos1[1])\n",
    "    lat2 = math.radians(pos2[0])\n",
    "    lon2 = math.radians(pos2[1])\n",
    "    dlon = lon2-lon1\n",
    "    dlat = lat2-lat1\n",
    "    a = math.sin(dlat / 2)**2 + math.cos(lat1) * math.cos(lat2) * math.sin(dlon / 2)**2\n",
    "    c = 2 * math.atan2(math.sqrt(a), math.sqrt(1 - a))\n",
    "    distance = R * c\n",
    "    return distance #returns distance in km between two lat/lon points"
   ]
  },
  {
   "cell_type": "code",
   "execution_count": 74,
   "metadata": {},
   "outputs": [
    {
     "data": {
      "text/plain": [
       "{'53': {'NB': {'ID': '9084',\n",
       "   'dist': 0.43223784793932507,\n",
       "   'name': 'Pulaski & Arthington'},\n",
       "  'SB': {'ID': '17328',\n",
       "   'dist': 0.44897888658713775,\n",
       "   'name': 'Pulaski & Arthington'}},\n",
       " '12': {'EB': {'ID': '275',\n",
       "   'dist': 0.42895628939072056,\n",
       "   'name': 'Roosevelt & Independence'},\n",
       "  'WB': {'ID': '362',\n",
       "   'dist': 0.4118703888923746,\n",
       "   'name': 'Roosevelt & Independence'}},\n",
       " '7': {'EB': {'ID': '174',\n",
       "   'dist': 0.3862058130764268,\n",
       "   'name': 'Harrison & Independence'}}}"
      ]
     },
     "execution_count": 74,
     "metadata": {},
     "output_type": "execute_result"
    }
   ],
   "source": [
    "find_near_stops(41.87, -87.72,0.5)"
   ]
  },
  {
   "cell_type": "code",
   "execution_count": null,
   "metadata": {},
   "outputs": [],
   "source": []
  }
 ],
 "metadata": {
  "kernelspec": {
   "display_name": "Python 3",
   "language": "python",
   "name": "python3"
  },
  "language_info": {
   "codemirror_mode": {
    "name": "ipython",
    "version": 3
   },
   "file_extension": ".py",
   "mimetype": "text/x-python",
   "name": "python",
   "nbconvert_exporter": "python",
   "pygments_lexer": "ipython3",
   "version": "3.7.4"
  }
 },
 "nbformat": 4,
 "nbformat_minor": 2
}
