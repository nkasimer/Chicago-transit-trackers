{
 "cells": [
  {
   "cell_type": "code",
   "execution_count": null,
   "metadata": {},
   "outputs": [],
   "source": [
    "#shortens names of bus stops with long names"
   ]
  },
  {
   "cell_type": "code",
   "execution_count": 10,
   "metadata": {},
   "outputs": [],
   "source": [
    "def shortenname(name):\n",
    "    name = name.replace(\"Lake Shore Drive\",\"LSD\")\n",
    "    if name == \"BELMONT + BROADWAY\":\n",
    "        name = \"Belmont & Broadway\"\n",
    "    name = name.replace(\"/\",\" & \")\n",
    "    name = name.replace(\"and\",\"&\")\n",
    "    if \"(\" in name and \")\" in name:\n",
    "        startnote = name.index(\"(\")\n",
    "        endnote = name.index(\")\")\n",
    "        name = name[0:startnote-1]\n",
    "    return name"
   ]
  }
 ],
 "metadata": {
  "kernelspec": {
   "display_name": "Python 3",
   "language": "python",
   "name": "python3"
  },
  "language_info": {
   "codemirror_mode": {
    "name": "ipython",
    "version": 3
   },
   "file_extension": ".py",
   "mimetype": "text/x-python",
   "name": "python",
   "nbconvert_exporter": "python",
   "pygments_lexer": "ipython3",
   "version": "3.7.4"
  }
 },
 "nbformat": 4,
 "nbformat_minor": 2
}
