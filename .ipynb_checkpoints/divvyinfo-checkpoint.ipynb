{
 "cells": [
  {
   "cell_type": "code",
   "execution_count": 145,
   "metadata": {
    "collapsed": true
   },
   "outputs": [],
   "source": [
    "#fetches divvy info for a given lat/lon\n",
    "#https://gbfs.divvybikes.com/gbfs/gbfs.json"
   ]
  },
  {
   "cell_type": "code",
   "execution_count": 2,
   "metadata": {},
   "outputs": [],
   "source": [
    "import urllib.request, json, datetime, time, math, os\n",
    "from operator import itemgetter"
   ]
  },
  {
   "cell_type": "code",
   "execution_count": 3,
   "metadata": {},
   "outputs": [],
   "source": [
    "def calcdistance(pos1,pos2):\n",
    "    R = 6373.0\n",
    "    lat1 = math.radians(pos1[0])\n",
    "    lon1 = math.radians(pos1[1])\n",
    "    lat2 = math.radians(pos2[0])\n",
    "    lon2 = math.radians(pos2[1])\n",
    "    dlon = lon2-lon1\n",
    "    dlat = lat2-lat1\n",
    "    a = math.sin(dlat / 2)**2 + math.cos(lat1) * math.cos(lat2) * math.sin(dlon / 2)**2\n",
    "    c = 2 * math.atan2(math.sqrt(a), math.sqrt(1 - a))\n",
    "    distance = R * c\n",
    "    return distance #returns distance in km between two lat/lon points"
   ]
  },
  {
   "cell_type": "code",
   "execution_count": 4,
   "metadata": {},
   "outputs": [],
   "source": [
    "def nearbystations(lat,lon,maxdist):\n",
    "    with urllib.request.urlopen(\"https://gbfs.divvybikes.com/gbfs/en/station_information.json\") as url:\n",
    "        stations = json.loads(url.read().decode())\n",
    "    with urllib.request.urlopen(\"https://gbfs.divvybikes.com/gbfs/en/station_status.json\") as url:\n",
    "        station_status = json.loads(url.read().decode())\n",
    "    station_data = []\n",
    "    for station in stations[\"data\"][\"stations\"]:\n",
    "        station_lat = station[\"lat\"]\n",
    "        station_lon = station[\"lon\"]\n",
    "        distance = calcdistance([station[\"lat\"],station[\"lon\"]],[lat,lon])\n",
    "        if distance < maxdist:\n",
    "            name = station[\"name\"]\n",
    "            suffixes = [\" Ave \",\" Rd \",\" St \",\" Pl \",\" Blvd \",\" Ct \",\" Pkwy \",\" Dr \", \" St \"]\n",
    "            #^ removes end of street names for brevity\n",
    "            for item in suffixes:\n",
    "                name = name.replace(item,\" \")\n",
    "            each_station = {\n",
    "                \"id\":station[\"legacy_id\"],\n",
    "                \"name\":name,\n",
    "                \"distance\":distance\n",
    "            }\n",
    "            for stationstatus in station_status[\"data\"][\"stations\"]:\n",
    "                if each_station[\"id\"] == stationstatus[\"legacy_id\"]:\n",
    "                    each_station[\"bikes\"] = stationstatus[\"num_bikes_available\"] - stationstatus[\"num_ebikes_available\"]\n",
    "                    each_station[\"docks\"] = stationstatus[\"num_docks_available\"]\n",
    "                    each_station[\"ebikes\"] = stationstatus[\"num_ebikes_available\"]\n",
    "            station_data.append(each_station)\n",
    "    return sorted(station_data, key = lambda i: i['distance'])\n",
    "    #returns a dict with info about each station within maxdist of the given location, sorted from closest to furthest."
   ]
  },
  {
   "cell_type": "code",
   "execution_count": 5,
   "metadata": {},
   "outputs": [],
   "source": [
    "def nearbybikes(lat,lon,maxdist):\n",
    "    with urllib.request.urlopen(\"https://gbfs.divvybikes.com/gbfs/en/free_bike_status.json\") as url:\n",
    "        freebikes = json.loads(url.read().decode())\n",
    "    nearbikes = []\n",
    "    for bike in freebikes[\"data\"][\"bikes\"]:\n",
    "        distance = calcdistance([bike[\"lat\"],bike[\"lon\"]],[lat,lon])\n",
    "        if distance < maxdist and bike[\"is_reserved\"]==0 and bike[\"is_disabled\"]==0:\n",
    "            nearbikes.append(distance)\n",
    "    nearbikes.sort()\n",
    "    return nearbikes[0:4]\n",
    "    #returns up to 5 dockless bikes within maxdist of the given location, sorted from closest to furthest.\n",
    "    #the format of the output is a simple list of distances in km of these bikes."
   ]
  },
  {
   "cell_type": "code",
   "execution_count": 6,
   "metadata": {},
   "outputs": [],
   "source": [
    "#this function combines the info for divvy stations with dockless ebikes into easily human-readable form\n",
    "#dockless bikes are returned only if they are closer than the closest divvy station by default\n",
    "#see below for what to change to return all dockless bikes in the desired radius\n",
    "\n",
    "#input is with lat/lon as floats, and a float for distance in km\n",
    "\n",
    "def divvyfinder(lat,lon,dist):\n",
    "    stationdata = nearbystations(lat,lon,dist)\n",
    "    closest_sta_distance = dist\n",
    "    output = []\n",
    "    for station in stationdata:\n",
    "        stationprint = station[\"name\"]+\": \"\n",
    "        if station[\"bikes\"] == 1:\n",
    "            stationprint += \"1 bike, \"\n",
    "        else:\n",
    "            stationprint += str(station[\"bikes\"])+\" bikes, \"\n",
    "        if station[\"ebikes\"] > 1:\n",
    "            stationprint += str(station[\"ebikes\"])+\" ebikes, \"\n",
    "        elif station[\"ebikes\"]==1:\n",
    "            stationprint += \"1 ebike, \"\n",
    "        if station[\"docks\"]==1:\n",
    "            stationprint += \"1 dock\"\n",
    "        else:\n",
    "            stationprint += str(station[\"docks\"])+\" docks\"\n",
    "        output.append(stationprint)\n",
    "        if station[\"distance\"]<closest_sta_distance and station[\"bikes\"]+station[\"ebikes\"]>0:\n",
    "            closest_sta_distance = station[\"distance\"]\n",
    "    output = output[0:5]\n",
    "    \n",
    "    #for dockless bikes closer than the cloest station:\n",
    "    ebikedata = nearbybikes(lat,lon,closest_sta_distance)\n",
    "    #for dockless bikes within the dist of the given location:\n",
    "    #ebikedata = nearbybikes(lat,lon,dist)\n",
    "    \n",
    "    if len(ebikedata)==1:\n",
    "        freebikeprint = \"Available E-bike \"+str(round(ebikedata[0]*1000))+\" meters away\"\n",
    "    elif len(ebikedata)==0:\n",
    "        freebikeprint = None\n",
    "    else:\n",
    "        freebikeprint = \"Available E-bikes \"\n",
    "        for bike in ebikedata:\n",
    "            freebikeprint += str(round(bike*1000))+\", \"\n",
    "        freebikeprint = freebikeprint[:-2] + \" meters away\"\n",
    "    if freebikeprint != None:\n",
    "        output.append(freebikeprint)\n",
    "    return output\n",
    "    #output format is a list\n",
    "    #first are stations, each has a string with name of the station, number of bikes, number of ebikes, and number of docks\n",
    "    #then a string with distances of ebikes"
   ]
  },
  {
   "cell_type": "code",
   "execution_count": 7,
   "metadata": {},
   "outputs": [
    {
     "data": {
      "text/plain": [
       "['Dearborn & Monroe St: 28 bikes, 11 docks',\n",
       " 'Michigan & Madison St: 15 bikes, 2 ebikes, 2 docks',\n",
       " 'Daley Center Plaza: 15 bikes, 3 ebikes, 21 docks',\n",
       " 'State & Randolph St: 14 bikes, 2 ebikes, 10 docks',\n",
       " 'Millennium Park: 40 bikes, 1 ebike, 6 docks',\n",
       " 'Available E-bikes 50, 50 meters away']"
      ]
     },
     "execution_count": 7,
     "metadata": {},
     "output_type": "execute_result"
    }
   ],
   "source": [
    "divvyfinder(41.882, -87.6278, 1)"
   ]
  },
  {
   "cell_type": "code",
   "execution_count": null,
   "metadata": {},
   "outputs": [],
   "source": []
  }
 ],
 "metadata": {
  "kernelspec": {
   "display_name": "Python 3",
   "language": "python",
   "name": "python3"
  },
  "language_info": {
   "codemirror_mode": {
    "name": "ipython",
    "version": 3
   },
   "file_extension": ".py",
   "mimetype": "text/x-python",
   "name": "python",
   "nbconvert_exporter": "python",
   "pygments_lexer": "ipython3",
   "version": "3.7.4"
  }
 },
 "nbformat": 4,
 "nbformat_minor": 1
}
