{
 "cells": [
  {
   "cell_type": "code",
   "execution_count": 10,
   "metadata": {},
   "outputs": [],
   "source": [
    "#calculates minutes till you have to leave for divvy to transit\n",
    "\n",
    "import urllib.request, json, datetime, time,pytz\n",
    "\n",
    "with open('keys.json') as json_file:\n",
    "    keys = json.load(json_file)\n",
    "train_key = keys[\"trainkey\"]\n",
    "bus_key = keys[\"buskey\"]"
   ]
  },
  {
   "cell_type": "code",
   "execution_count": 80,
   "metadata": {},
   "outputs": [],
   "source": [
    "divvy_connections = []\n",
    "#a list of divvy connections to parse.  \"start\" and \"end\" are the divvy station IDs\n",
    "#route must be in the format the CTA API expects it\n",
    "#minutes is minutes it'll take to get to the transit location\n",
    "divvy_connections.append({\"start\":\"240\",\"end\":\"293\",\"type\":\"rail\",\"stopID\":\"40540\",\"route\":\"P\",\"direction\":\"1\",\"minutes\":10})\n",
    "divvy_connections.append({\"start\":\"240\",\"end\":\"244\",\"type\":\"rail\",\"stopID\":\"41460\",\"route\":\"Brn\",\"direction\":\"1\",\"minutes\":15})\n",
    "divvy_connections.append({\"start\":\"240\",\"end\":\"318\",\"type\":\"bus\",\"stopID\":\"15275\",\"route\":\"9\",\"direction\":\"all\",\"minutes\":12})"
   ]
  },
  {
   "cell_type": "code",
   "execution_count": 76,
   "metadata": {},
   "outputs": [],
   "source": [
    "def divvy_data(station):\n",
    "    with urllib.request.urlopen(\"https://gbfs.divvybikes.com/gbfs/en/station_status.json\") as url:\n",
    "        station_status = json.loads(url.read().decode())\n",
    "    stationdata = {}\n",
    "    for stationstatus in station_status[\"data\"][\"stations\"]:\n",
    "        if station == stationstatus[\"legacy_id\"]:\n",
    "            stationdata[\"bikes\"] = stationstatus[\"num_bikes_available\"] - stationstatus[\"num_ebikes_available\"]\n",
    "            stationdata[\"docks\"] = stationstatus[\"num_docks_available\"]\n",
    "            stationdata[\"ebikes\"] = stationstatus[\"num_ebikes_available\"]\n",
    "    return stationdata"
   ]
  },
  {
   "cell_type": "code",
   "execution_count": 92,
   "metadata": {},
   "outputs": [],
   "source": [
    "def divvy_to_train(connection, trainkey, buskey):\n",
    "    origin = divvy_data(connection[\"start\"])\n",
    "    bikes_origin = origin[\"bikes\"] + origin[\"ebikes\"]\n",
    "    docks_destination = divvy_data(connection[\"end\"])[\"docks\"]\n",
    "    output = []\n",
    "    if bikes_origin > 2 and docks_destination > 3:\n",
    "        if connection[\"type\"] == \"rail\":\n",
    "            traindata = fetchCTAtrains(connection[\"stopID\"],trainkey)\n",
    "            for train in traindata[\"ctatt\"][\"eta\"]:\n",
    "                if train[\"rt\"] == connection[\"route\"] and (train[\"trDr\"] == connection[\"direction\"] or connection[\"direction\"] == \"all\"):\n",
    "                    ETA = int(str(parseCTAtime(train[\"arrT\"]) - parseCTAtime(train[\"prdt\"]))[2:4])\n",
    "                    if ETA >= connection[\"minutes\"]:\n",
    "                        one_output = {\"bikes_origin\":bikes_origin,\"docks_dest\":docks_destination,\"ETA\":ETA,\"time\":connection[\"minutes\"],\"route\":train[\"rt\"],\"direction\":train[\"trDr\"],\"stationname\":train[\"staNm\"],\"dest\":train[\"destNm\"],\"type\":connection[\"type\"]}\n",
    "                        output.append(one_output)\n",
    "        elif connection[\"type\"] == \"bus\":\n",
    "            busdata = fetchCTAbuses(connection[\"stopID\"],buskey)\n",
    "            for bus in busdata[\"bustime-response\"][\"prd\"]:\n",
    "                if bus[\"rt\"] == connection[\"route\"] and (bus[\"rtdir\"] == connection[\"direction\"] or connection[\"direction\"] == \"all\"):\n",
    "                    if bus[\"prdctdn\"] == \"DUE\":\n",
    "                        ETA = 0\n",
    "                    elif bus[\"prdctdn\"] == \"DLY\":\n",
    "                        continue\n",
    "                    else:\n",
    "                        ETA = int(bus[\"prdctdn\"])\n",
    "                    if ETA >= connection[\"minutes\"]:\n",
    "                        one_output = {\"bikes_origin\":bikes_origin,\"docks_dest\":docks_destination,\"ETA\":ETA,\"time\":connection[\"minutes\"],\"route\":bus[\"rt\"],\"direction\":bus[\"rtdir\"],\"stationname\":bus[\"stpnm\"],\"dest\":bus[\"des\"],\"type\":connection[\"type\"]}\n",
    "                        output.append(one_output)\n",
    "    return output"
   ]
  },
  {
   "cell_type": "code",
   "execution_count": 93,
   "metadata": {},
   "outputs": [],
   "source": [
    "def combine_divvy_to_transit(connections, trainkey, buskey):\n",
    "    list_of_dicts = []\n",
    "    output = []\n",
    "    for connection in connections:\n",
    "        list_of_dicts += divvy_to_train(connection,train_key,bus_key)\n",
    "    for connection in list_of_dicts:\n",
    "        leave_in = connection[\"ETA\"] - connection[\"time\"]\n",
    "        if connection[\"type\"] == \"rail\":\n",
    "            connection_string = \"Leave in \"+str(leave_in)+\" mins, Divvy to \"+connection[\"stationname\"]+\" for \"+connection[\"dest\"]\n",
    "            connection_format = connection[\"route\"]\n",
    "        elif connection[\"type\"] == \"bus\":\n",
    "            connection_string = \"Leave in \"+str(leave_in)+\" mins, Divvy to \"+connection[\"route\"]+\" \"+connection[\"direction\"]\n",
    "            connection_format = \"transit\"\n",
    "        output.append([connection_format,connection_string])\n",
    "    return output"
   ]
  },
  {
   "cell_type": "code",
   "execution_count": 94,
   "metadata": {},
   "outputs": [
    {
     "data": {
      "text/plain": [
       "[['Brn', 'Leave in 3 mins, divvy to Irving Park to Kimball'],\n",
       " ['transit', 'Leave in 11 mins, divvy to 9 Southbound']]"
      ]
     },
     "execution_count": 94,
     "metadata": {},
     "output_type": "execute_result"
    }
   ],
   "source": [
    "combine_divvy_to_transit(divvy_connections,train_key,bus_key)"
   ]
  },
  {
   "cell_type": "code",
   "execution_count": null,
   "metadata": {},
   "outputs": [],
   "source": [
    "#the following are in other notebooks in this repo, but are needed here too"
   ]
  },
  {
   "cell_type": "code",
   "execution_count": 26,
   "metadata": {},
   "outputs": [],
   "source": [
    "def fetchCTAtrains(trainstops, trainkey):\n",
    "    if trainstops == \"\":\n",
    "        return\n",
    "    number_stops = trainstops.count(\",\")+1\n",
    "    if number_stops > 4:\n",
    "        stop_list = trainstops.split(\",\")\n",
    "        trainstops_list = []\n",
    "        while len(stop_list)>0:\n",
    "            newlist = \"\"\n",
    "            for i in range(0,4):\n",
    "                if len(stop_list)>0:\n",
    "                    newlist += stop_list[0]+\",\"\n",
    "                    stop_list.pop(0)\n",
    "                i = i+1\n",
    "            newlist = newlist[0:-1]\n",
    "            trainstops_list.append(newlist)\n",
    "    else:\n",
    "        trainstops_list = [trainstops]\n",
    "    traininfo_list = []\n",
    "    for trainlist in trainstops_list:\n",
    "        if trainlist[0] == \",\":\n",
    "            trainlist = trainlist[1:]\n",
    "        trainurl = \"http://lapi.transitchicago.com/api/1.0/ttarrivals.aspx?key=\"+trainkey+\"&mapid=\"+trainlist+\"&outputType=JSON\"\n",
    "        #print(trainurl)\n",
    "        with urllib.request.urlopen(trainurl) as url:\n",
    "            some_train_info = json.loads(url.read().decode())[\"ctatt\"][\"eta\"]\n",
    "            traininfo_list = traininfo_list + some_train_info\n",
    "    traininfo = {\"ctatt\":{\n",
    "        \"eta\":traininfo_list\n",
    "    }}\n",
    "    return traininfo\n",
    "    \n",
    "    #print(train_url)\n",
    "    with urllib.request.urlopen(train_url) as url:\n",
    "        train_info = json.loads(url.read().decode())\n",
    "    return train_info\n",
    "\n",
    "def fetchCTAbuses(busstops, buskey):\n",
    "    if busstops == \"\":\n",
    "        return\n",
    "    number_stops = busstops.count(\",\")+1\n",
    "    if number_stops > 10:\n",
    "        stop_list = busstops.split(\",\")\n",
    "        busstops_list = []\n",
    "        while len(stop_list)>0:\n",
    "            newlist = \"\"\n",
    "            for i in range(0,10):\n",
    "                if len(stop_list)>0:\n",
    "                    newlist += stop_list[0]+\",\"\n",
    "                    stop_list.pop(0)\n",
    "                i = i+1\n",
    "            newlist = newlist[0:-1]\n",
    "            busstops_list.append(newlist)\n",
    "    else:\n",
    "        busstops_list = [busstops]\n",
    "    businfo_list = []\n",
    "    for buslist in busstops_list:\n",
    "        busurl = \"http://www.ctabustracker.com/bustime/api/v2/getpredictions?key=\"+buskey+\"&stpid=\"+buslist+\"&format=json\"\n",
    "        with urllib.request.urlopen(busurl) as url:\n",
    "            some_bus_info = json.loads(url.read().decode())[\"bustime-response\"][\"prd\"]\n",
    "            businfo_list = businfo_list + some_bus_info\n",
    "    bus_info = {\"bustime-response\":{\n",
    "        \"prd\":businfo_list\n",
    "    }}\n",
    "    return bus_info"
   ]
  },
  {
   "cell_type": "code",
   "execution_count": 27,
   "metadata": {},
   "outputs": [],
   "source": [
    "def parseCTAtime(timestamp):\n",
    "    return datetime.datetime.strptime(timestamp,\"%Y-%m-%dT%H:%M:%S\")"
   ]
  },
  {
   "cell_type": "code",
   "execution_count": null,
   "metadata": {},
   "outputs": [],
   "source": []
  }
 ],
 "metadata": {
  "kernelspec": {
   "display_name": "Python 3",
   "language": "python",
   "name": "python3"
  },
  "language_info": {
   "codemirror_mode": {
    "name": "ipython",
    "version": 3
   },
   "file_extension": ".py",
   "mimetype": "text/x-python",
   "name": "python",
   "nbconvert_exporter": "python",
   "pygments_lexer": "ipython3",
   "version": "3.7.4"
  }
 },
 "nbformat": 4,
 "nbformat_minor": 2
}
