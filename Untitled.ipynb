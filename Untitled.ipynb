{
 "cells": [
  {
   "cell_type": "code",
   "execution_count": 4,
   "metadata": {},
   "outputs": [],
   "source": [
    "import datetime\n",
    "time1str = '10:55am'\n",
    "time2str = '11:23am'\n",
    "time1 = datetime.datetime.strptime(time1str,'%I:%M%p')\n",
    "time2 = datetime.datetime.strptime(time2str,'%I:%M%p')"
   ]
  },
  {
   "cell_type": "code",
   "execution_count": 5,
   "metadata": {},
   "outputs": [],
   "source": [
    "def getpaceETA(esttime,updatetime):\n",
    "    time2 = datetime.datetime.strptime(esttime,'%I:%M%p')\n",
    "    time1 = datetime.datetime.strptime(updatetime,'%I:%M%p')\n",
    "    if time1>time2:\n",
    "        time2 = time2 + datetime.timedelta(days=1)\n",
    "    return round((time2 - time1).total_seconds()/60)"
   ]
  },
  {
   "cell_type": "code",
   "execution_count": 7,
   "metadata": {},
   "outputs": [
    {
     "data": {
      "text/plain": [
       "9"
      ]
     },
     "execution_count": 7,
     "metadata": {},
     "output_type": "execute_result"
    }
   ],
   "source": [
    "getpaceETA('10:32am','10:23am')"
   ]
  },
  {
   "cell_type": "code",
   "execution_count": null,
   "metadata": {},
   "outputs": [],
   "source": []
  }
 ],
 "metadata": {
  "kernelspec": {
   "display_name": "Python 3",
   "language": "python",
   "name": "python3"
  },
  "language_info": {
   "codemirror_mode": {
    "name": "ipython",
    "version": 3
   },
   "file_extension": ".py",
   "mimetype": "text/x-python",
   "name": "python",
   "nbconvert_exporter": "python",
   "pygments_lexer": "ipython3",
   "version": "3.7.4"
  }
 },
 "nbformat": 4,
 "nbformat_minor": 2
}
