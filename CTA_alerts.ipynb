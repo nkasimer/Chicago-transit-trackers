{
 "cells": [
  {
   "cell_type": "code",
   "execution_count": 7,
   "metadata": {},
   "outputs": [],
   "source": [
    "import urllib.request, json, datetime, time\n",
    "\n",
    "#documentation of API: \n",
    "#https://www.transitchicago.com/assets/1/6/cta_Customer_Alerts_API_Developer_Guide_and_Documentation_20160929.pdf\n",
    "\n",
    "alertroutestring = {\n",
    "    \"location1\":\"Red,147,22,49,Brn,Blue,Org\",\n",
    "    }\n",
    "#defines alerts to search for, note short names of L lines from API docs\n",
    "\n",
    "def CTAalerts(locstring):\n",
    "    if alertroutestring[locstring] == \"\":\n",
    "        return []\n",
    "    alerturl = \"http://www.transitchicago.com/api/1.0/alerts.aspx?routeid=\"+alertroutestring[locstring]+\"&outputType=JSON&accessibility=FALSE&activeonly=TRUE&recentdays=7\"\n",
    "    #by changing parameters in that URL the extent of alerts outputted can be altered\n",
    "    #this includes only currently active alerts, excludes long-term alerts, and excludes accessibility alerts\n",
    "    \n",
    "    with urllib.request.urlopen(alerturl) as url:\n",
    "        alerts = json.loads(url.read().decode())\n",
    "\n",
    "    if alerts[\"CTAAlerts\"][\"ErrorCode\"] != \"0\":\n",
    "        return \"\"\n",
    "    alertstoprint = []\n",
    "    for disruption in alerts[\"CTAAlerts\"][\"Alert\"]:\n",
    "        line = disruption[\"ShortDescription\"]\n",
    "        line = line.replace(\"\\r\\n\",\" \")\n",
    "        headline = disruption[\"Headline\"]\n",
    "        headline = headline.replace(\"Lake Shore Drive\",\"LSD\")\n",
    "        headline = headline.replace(\"Express\", \"Exp\")\n",
    "        headline = headline.replace(\"Exp.\", \"Exp\")\n",
    "        #the above shortens the headline to keep it short.\n",
    "        #Unfortunately the CTA is very inconsistent about naming alerts.\n",
    "        #Often the name of the service affected is included, but not always.\n",
    "        \n",
    "        description = alerttextfixer(disruption[\"FullDescription\"][\"#cdata-section\"])\n",
    "        # try:\n",
    "        #     backcolor = disruption[\"ImpactedService\"][\"Service\"][\"ServiceBackColor\"]\n",
    "        #     textcolor = disruption[\"ImpactedService\"][\"Service\"][\"ServiceTextColor\"]\n",
    "        # except:\n",
    "        backcolor = \"059\"\n",
    "        textcolor = \"ffffff\"\n",
    "        link = disruption[\"AlertURL\"][\"#cdata-section\"]\n",
    "        alertstoprint.append([headline,backcolor,textcolor,link,description])\n",
    "    return alertstoprint\n",
    "\n",
    "def alerttextfixer(desc):\n",
    "    desc  = desc.replace(\"\\r\\n\",\" \")\n",
    "    desc = desc.replace(\"\\n\",\"\")\n",
    "    desc = desc.replace(\"  \",\" \")\n",
    "    desc = desc.replace(\"&nbsp;\",\" \")\n",
    "    desc = desc.replace(\"&#39;\",\"\\'\")\n",
    "    while \"<\" in desc and \">\" in desc:\n",
    "        loc1 = desc.find(\"<\")\n",
    "        loc2 = desc.find(\">\",loc1)+1\n",
    "        desc = desc.replace(desc[loc1:loc2],\"\")\n",
    "    return desc"
   ]
  },
  {
   "cell_type": "code",
   "execution_count": 8,
   "metadata": {},
   "outputs": [
    {
     "data": {
      "text/plain": [
       "''"
      ]
     },
     "execution_count": 8,
     "metadata": {},
     "output_type": "execute_result"
    }
   ],
   "source": [
    "CTAalerts(\"location1\")"
   ]
  },
  {
   "cell_type": "code",
   "execution_count": null,
   "metadata": {},
   "outputs": [],
   "source": []
  }
 ],
 "metadata": {
  "kernelspec": {
   "display_name": "Python 3",
   "language": "python",
   "name": "python3"
  },
  "language_info": {
   "codemirror_mode": {
    "name": "ipython",
    "version": 3
   },
   "file_extension": ".py",
   "mimetype": "text/x-python",
   "name": "python",
   "nbconvert_exporter": "python",
   "pygments_lexer": "ipython3",
   "version": "3.7.4"
  }
 },
 "nbformat": 4,
 "nbformat_minor": 2
}
